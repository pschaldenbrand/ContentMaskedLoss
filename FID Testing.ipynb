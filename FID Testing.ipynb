{
 "cells": [
  {
   "cell_type": "code",
   "execution_count": 1,
   "metadata": {},
   "outputs": [
    {
     "name": "stderr",
     "output_type": "stream",
     "text": [
      "C:\\Program Files\\Python36\\lib\\site-packages\\h5py\\__init__.py:36: FutureWarning: Conversion of the second argument of issubdtype from `float` to `np.floating` is deprecated. In future, it will be treated as `np.float64 == np.dtype(float).type`.\n",
      "  from ._conv import register_converters as _register_converters\n"
     ]
    }
   ],
   "source": [
    "from fid import *"
   ]
  },
  {
   "cell_type": "code",
   "execution_count": 17,
   "metadata": {},
   "outputs": [
    {
     "name": "stdout",
     "output_type": "stream",
     "text": [
      "final\tgan\t236.86584319334588\n",
      "final\tl2\t237.83334160135124\n",
      "final\tl1\t238.37351830902793\n",
      "final\tcm\t239.47065507299615\n",
      "final\tcml1\t240.00079906193736\n",
      "\n",
      "20\tgan\t292.9496189964933\n",
      "20\tl2\t270.8590301665218\n",
      "20\tl1\t271.1785107945472\n",
      "20\tcm\t284.44158083990374\n",
      "20\tcml1\t287.1306029499479\n",
      "\n",
      "50\tgan\t290.39986824796284\n",
      "50\tl2\t287.3274114296746\n",
      "50\tl1\t271.4467838896132\n",
      "50\tcm\t293.2187315619593\n",
      "50\tcml1\t273.0777704035577\n",
      "\n",
      "100\tgan\t270.1127494788315\n",
      "100\tl2\t270.8113169357256\n",
      "100\tl1\t265.99857183342573\n",
      "100\tcm\t277.20109861508064\n",
      "100\tcml1\t262.7516269257586\n",
      "\n",
      "300\tgan\t253.13286441742687\n",
      "300\tl2\t256.3044992519167\n",
      "300\tl1\t253.71944761654402\n",
      "300\tcm\t259.8006705818094\n",
      "300\tcml1\t251.19584564500303\n",
      "\n"
     ]
    }
   ],
   "source": [
    "PARENT_DIR = 'fid'\n",
    "labels = ['GAN', 'L2', 'L1*', 'CM', 'CM + L1*']\n",
    "dir_labels = ['gan', 'l2', 'l1', 'cm', 'cml1']\n",
    "inds_to_save = ['final'] + [20, 50, 100, 300]\n",
    "\n",
    "inception_path = check_or_download_inception(None) # download inception network\n",
    "create_inception_graph(inception_path)  # load the graph into the current TF graph\n",
    "\n",
    "real_image_dir = os.path.join(PARENT_DIR, 'real')\n",
    "mu_real, sigma_real = calculate_fid_stats(load_images_from_path(real_image_dir))\n",
    "\n",
    "for painting_ind in inds_to_save:\n",
    "    for dir_label in dir_labels:\n",
    "        gen_image_dir = os.path.join(PARENT_DIR, str(painting_ind), dir_label)\n",
    "        \n",
    "        mu_gen, sigma_gen = calculate_fid_stats(load_images_from_path(gen_image_dir))\n",
    "        \n",
    "        try:\n",
    "            fid = calculate_frechet_distance(mu_gen, sigma_gen, mu_real, sigma_real)\n",
    "        \n",
    "            print(painting_ind, dir_label, fid, sep=\"\\t\")\n",
    "        except ValueError:\n",
    "            print(painting_ind, dir_label, 'Value error', sep=\"\\t\")\n",
    "    print()"
   ]
  },
  {
   "cell_type": "code",
   "execution_count": null,
   "metadata": {},
   "outputs": [],
   "source": []
  },
  {
   "cell_type": "code",
   "execution_count": 1,
   "metadata": {},
   "outputs": [
    {
     "name": "stderr",
     "output_type": "stream",
     "text": [
      "C:\\Program Files\\Python36\\lib\\site-packages\\h5py\\__init__.py:36: FutureWarning: Conversion of the second argument of issubdtype from `float` to `np.floating` is deprecated. In future, it will be treated as `np.float64 == np.dtype(float).type`.\n",
      "  from ._conv import register_converters as _register_converters\n"
     ]
    },
    {
     "name": "stdout",
     "output_type": "stream",
     "text": [
      "31 images found and loaded\n",
      "create inception graph.. ok\n",
      "calculte FID stats.. "
     ]
    },
    {
     "name": "stderr",
     "output_type": "stream",
     "text": [
      "WARNING: Logging before flag parsing goes to stderr.\n",
      "W0622 12:29:36.554729 47956 module_wrapper.py:139] From C:\\Users\\Peter\\HumanoidPainter\\fid.py:61: The name tf.Session is deprecated. Please use tf.compat.v1.Session instead.\n",
      "\n",
      "W0622 12:29:36.912511 47956 module_wrapper.py:139] From C:\\Users\\Peter\\HumanoidPainter\\fid.py:62: The name tf.global_variables_initializer is deprecated. Please use tf.compat.v1.global_variables_initializer instead.\n",
      "\n"
     ]
    },
    {
     "name": "stdout",
     "output_type": "stream",
     "text": [
      "finished\n",
      "FID: -0.00012132218830629427\n"
     ]
    },
    {
     "data": {
      "text/plain": [
       "-0.00012132218830629427"
      ]
     },
     "execution_count": 1,
     "metadata": {},
     "output_type": "execute_result"
    }
   ],
   "source": [
    "calculate_fid('image', width=256, debug=True)"
   ]
  },
  {
   "cell_type": "code",
   "execution_count": 1,
   "metadata": {},
   "outputs": [
    {
     "name": "stderr",
     "output_type": "stream",
     "text": [
      "C:\\Program Files\\Python36\\lib\\site-packages\\h5py\\__init__.py:36: FutureWarning: Conversion of the second argument of issubdtype from `float` to `np.floating` is deprecated. In future, it will be treated as `np.float64 == np.dtype(float).type`.\n",
      "  from ._conv import register_converters as _register_converters\n"
     ]
    }
   ],
   "source": [
    "# Help from https://github.com/bioinf-jku/TTUR/blob/master/fid.py\n",
    "import os\n",
    "import glob\n",
    "os.environ['CUDA_VISIBLE_DEVICES'] = \"-1\"#'0'\n",
    "import numpy as np\n",
    "import fid\n",
    "#from scipy.misc import imread\n",
    "import cv2\n",
    "import tensorflow as tf"
   ]
  },
  {
   "cell_type": "code",
   "execution_count": 2,
   "metadata": {},
   "outputs": [
    {
     "name": "stdout",
     "output_type": "stream",
     "text": [
      "31 images found and loaded\n",
      "(31, 256, 256, 3)\n"
     ]
    }
   ],
   "source": [
    "# Paths\n",
    "image_path = 'image' # set path to some generated images\n",
    "inception_path = fid.check_or_download_inception(None) # download inception network\n",
    "\n",
    "# loads all images into memory (this might require a lot of RAM!)\n",
    "image_list = glob.glob(os.path.join(image_path, '*.jpg'))\n",
    "\n",
    "width = 256\n",
    "images = np.zeros((len(image_list), width, width, 3))\n",
    "i = 0\n",
    "for img_fn in image_list:\n",
    "    img = cv2.imread(img_fn, cv2.IMREAD_COLOR)\n",
    "    img = cv2.resize(img, (width, width))\n",
    "    img = img.reshape(1, width, width, 3)\n",
    "    # img = np.transpose(img, (0, 3, 1, 2))\n",
    "    images[i] = img\n",
    "    i += 1\n",
    "    \n",
    "print(\"%d images found and loaded\" % len(images))\n",
    "print(images.shape)"
   ]
  },
  {
   "cell_type": "code",
   "execution_count": 3,
   "metadata": {},
   "outputs": [
    {
     "name": "stdout",
     "output_type": "stream",
     "text": [
      "create inception graph.. ok\n"
     ]
    }
   ],
   "source": [
    "print(\"create inception graph..\", end=\" \", flush=True)\n",
    "fid.create_inception_graph(inception_path)  # load the graph into the current TF graph\n",
    "print(\"ok\")"
   ]
  },
  {
   "cell_type": "code",
   "execution_count": 4,
   "metadata": {},
   "outputs": [
    {
     "name": "stdout",
     "output_type": "stream",
     "text": [
      "calculte FID stats.. finished\n"
     ]
    }
   ],
   "source": [
    "print(\"calculte FID stats..\", end=\" \", flush=True)\n",
    "with tf.Session() as sess:\n",
    "    sess.run(tf.global_variables_initializer())\n",
    "    mu_real, sigma_real = fid.calculate_activation_statistics(images, sess, batch_size=4)\n",
    "    #np.savez_compressed(output_path, mu=mu, sigma=sigma)\n",
    "print(\"finished\")"
   ]
  },
  {
   "cell_type": "code",
   "execution_count": null,
   "metadata": {},
   "outputs": [],
   "source": [
    "with tf.Session() as sess:\n",
    "    sess.run(tf.global_variables_initializer())\n",
    "    mu_gen, sigma_gen = fid.calculate_activation_statistics(images, sess, batch_size=4)"
   ]
  },
  {
   "cell_type": "code",
   "execution_count": 6,
   "metadata": {},
   "outputs": [
    {
     "name": "stdout",
     "output_type": "stream",
     "text": [
      "FID: -0.00012132218830629427\n"
     ]
    }
   ],
   "source": [
    "fid_value = fid.calculate_frechet_distance(mu_gen, sigma_gen, mu_real, sigma_real)\n",
    "print(\"FID: %s\" % fid_value)"
   ]
  },
  {
   "cell_type": "code",
   "execution_count": 7,
   "metadata": {},
   "outputs": [
    {
     "name": "stdout",
     "output_type": "stream",
     "text": [
      "31 images found and loaded\n",
      "create inception graph.. ok\n",
      "calculte FID stats.. finished\n",
      "FID: -0.00012196153500099172\n"
     ]
    },
    {
     "data": {
      "text/plain": [
       "-0.00012196153500099172"
      ]
     },
     "execution_count": 7,
     "metadata": {},
     "output_type": "execute_result"
    }
   ],
   "source": [
    "def calculate_fid(images_path, width=256, debug=False):\n",
    "    \"\"\"\n",
    "    Calculate the Frechet Inception Distance of images in a specified directory\n",
    "    Based on: https://github.com/bioinf-jku/TTUR\n",
    "    \"\"\"\n",
    "    inception_path = fid.check_or_download_inception(None) # download inception network\n",
    "\n",
    "    # loads all images into memory (this might require a lot of RAM!)\n",
    "    image_list = glob.glob(os.path.join(images_path, '*.jpg'))\n",
    "\n",
    "    images = np.zeros((len(image_list), width, width, 3))\n",
    "    i = 0\n",
    "    for img_fn in image_list:\n",
    "        img = cv2.imread(img_fn, cv2.IMREAD_COLOR)\n",
    "        img = cv2.resize(img, (width, width))\n",
    "        img = img.reshape(1, width, width, 3)\n",
    "        # img = np.transpose(img, (0, 3, 1, 2))\n",
    "        images[i] = img\n",
    "        i += 1\n",
    "    if debug: print(\"%d images found and loaded\" % len(images))\n",
    "    \n",
    "    if debug: print(\"create inception graph..\", end=\" \", flush=True)\n",
    "    fid.create_inception_graph(inception_path)  # load the graph into the current TF graph\n",
    "    if debug: print(\"ok\")\n",
    "    \n",
    "    if debug: print(\"calculte FID stats..\", end=\" \", flush=True)\n",
    "    with tf.Session() as sess:\n",
    "        sess.run(tf.global_variables_initializer())\n",
    "        mu_real, sigma_real = fid.calculate_activation_statistics(images, sess, batch_size=4)\n",
    "    if debug: print(\"finished\")\n",
    "    \n",
    "    with tf.Session() as sess:\n",
    "        sess.run(tf.global_variables_initializer())\n",
    "        mu_gen, sigma_gen = fid.calculate_activation_statistics(images, sess, batch_size=4)\n",
    "    \n",
    "    fid_value = fid.calculate_frechet_distance(mu_gen, sigma_gen, mu_real, sigma_real)\n",
    "    if debug: print(\"FID: %s\" % fid_value)\n",
    "    return fid_value\n",
    "\n",
    "calculate_fid('image', width=256, debug=True)"
   ]
  }
 ],
 "metadata": {
  "kernelspec": {
   "display_name": "Python 3",
   "language": "python",
   "name": "python3"
  }
 },
 "nbformat": 4,
 "nbformat_minor": 2
}
